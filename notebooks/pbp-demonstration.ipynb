{
 "cells": [
  {
   "cell_type": "markdown",
   "id": "d087f632",
   "metadata": {},
   "source": [
    "## Exercising PBP - PyPAM Based Processing\n",
    "\n",
    "PBP repo: https://github.com/mbari-org/pypam-based-processing\n",
    "\n",
    "In short, the steps in this notebook are:\n",
    "\n",
    "- Clone PBP to support the HMB generation\n",
    "- Install dependencies, including PyPAM\n",
    "- Do preparations in terms of working space for downloaded and generated files\n",
    "- Generate HMB for a single day\n",
    "- Generate HMB for multiple days in parallel using Dask"
   ]
  },
  {
   "cell_type": "code",
   "execution_count": 1,
   "id": "d2a1faaf-2926-4d91-9a4b-789fe02eb189",
   "metadata": {
    "tags": []
   },
   "outputs": [
    {
     "name": "stdout",
     "output_type": "stream",
     "text": [
      "/home/jovyan/mbari\n"
     ]
    }
   ],
   "source": [
    "!pwd"
   ]
  },
  {
   "cell_type": "markdown",
   "id": "879b81f4-90c6-4910-8f63-f66ae0013afc",
   "metadata": {},
   "source": [
    "## Code preparations"
   ]
  },
  {
   "cell_type": "markdown",
   "id": "f4d35799-009f-4c58-860d-af5a6f3bf9e8",
   "metadata": {},
   "source": [
    "### PBP clone"
   ]
  },
  {
   "cell_type": "code",
   "execution_count": 3,
   "id": "877a4107",
   "metadata": {
    "tags": []
   },
   "outputs": [],
   "source": [
    "## If not already cloned:\n",
    "# !git clone https://github.com/mbari-org/pypam-based-processing.git\n",
    "# %cd pypam-based-processing/\n"
   ]
  },
  {
   "cell_type": "code",
   "execution_count": 2,
   "id": "13b4a829",
   "metadata": {},
   "outputs": [
    {
     "name": "stdout",
     "output_type": "stream",
     "text": [
      "/home/jovyan/mbari/pypam-based-processing\n",
      "remote: Enumerating objects: 1, done.\u001b[K\n",
      "remote: Counting objects: 100% (1/1), done.\u001b[K\n",
      "remote: Total 1 (delta 1), reused 1 (delta 1), pack-reused 0\u001b[K\n",
      "Unpacking objects: 100% (1/1), 110 bytes | 110.00 KiB/s, done.\n",
      "From https://github.com/mbari-org/pypam-based-processing\n",
      "   880b6ad..19c008d  2023-10-18/change_logging -> origin/2023-10-18/change_logging\n",
      "Already up to date.\n"
     ]
    }
   ],
   "source": [
    "## Else:\n",
    "%cd pypam-based-processing/\n",
    "# !git pull"
   ]
  },
  {
   "cell_type": "code",
   "execution_count": 3,
   "id": "dd0d14b4-3a39-4f14-950f-9a59cf4599ea",
   "metadata": {
    "tags": []
   },
   "outputs": [],
   "source": [
    "# !git checkout main\n",
    "# !git pull origin main"
   ]
  },
  {
   "cell_type": "code",
   "execution_count": 4,
   "id": "8fdc8e5e-3b53-407e-845f-50a065bde954",
   "metadata": {
    "tags": []
   },
   "outputs": [
    {
     "name": "stdout",
     "output_type": "stream",
     "text": [
      "\u001b[33mcommit 53a55c57093cfeb0fd7bcea91527fc2079252650\u001b[m\u001b[33m (\u001b[m\u001b[1;36mHEAD -> \u001b[m\u001b[1;32mmain\u001b[m\u001b[33m, \u001b[m\u001b[1;31morigin/main\u001b[m\u001b[33m, \u001b[m\u001b[1;31morigin/HEAD\u001b[m\u001b[33m)\u001b[m\n",
      "Author: Carlos Rueda <carueda@mbari.org>\n",
      "Date:   Thu Oct 19 10:26:26 2023 -0700\n",
      "\n",
      "    refactor logging handling\n",
      "    \n",
      "    and use unique logger names, which helps in environments where multiple runs of the same day may be performed\n"
     ]
    }
   ],
   "source": [
    "# !git status\n",
    "!git log -1"
   ]
  },
  {
   "cell_type": "markdown",
   "id": "66faae3c-1363-470a-9c47-3f76a23fb42b",
   "metadata": {},
   "source": [
    "### Install requirements"
   ]
  },
  {
   "cell_type": "code",
   "execution_count": null,
   "id": "bdeb3f17",
   "metadata": {
    "tags": []
   },
   "outputs": [],
   "source": [
    "!pip install -r requirements.txt --no-cache-dir\n",
    "!pip install --no-cache-dir git+https://github.com/lifewatch/pypam.git"
   ]
  },
  {
   "cell_type": "markdown",
   "id": "fb5eb5a1-6430-4b4a-a7e3-5bffb7352037",
   "metadata": {},
   "source": [
    "### Basic tests"
   ]
  },
  {
   "cell_type": "code",
   "execution_count": 6,
   "id": "54605247",
   "metadata": {
    "tags": []
   },
   "outputs": [
    {
     "name": "stdout",
     "output_type": "stream",
     "text": [
      "\u001b[1m============================= test session starts ==============================\u001b[0m\n",
      "platform linux -- Python 3.10.6, pytest-7.4.0, pluggy-1.3.0\n",
      "rootdir: /home/jovyan/mbari/pypam-based-processing\n",
      "plugins: anyio-3.6.1, syrupy-4.0.6, cov-4.1.0\n",
      "collected 9 items                                                              \u001b[0m\u001b[1m\n",
      "\n",
      "tests/test_file_helper.py \u001b[32m.\u001b[0m\u001b[32m                                              [ 11%]\u001b[0m\n",
      "tests/test_json_support.py \u001b[32m.\u001b[0m\u001b[32m.\u001b[0m\u001b[32m.\u001b[0m\u001b[32m                                           [ 44%]\u001b[0m\n",
      "tests/test_metadata.py \u001b[32m.\u001b[0m\u001b[32m.\u001b[0m\u001b[32m.\u001b[0m\u001b[32m                                               [ 77%]\u001b[0m\n",
      "tests/test_misc.py \u001b[32m.\u001b[0m\u001b[32m.\u001b[0m\u001b[32m                                                    [100%]\u001b[0m\n",
      "\n",
      "--------------------------- snapshot report summary ----------------------------\n",
      "\u001b[1m\u001b[38;5;2m9\u001b[0m\u001b[0m snapshots passed.\n",
      "\u001b[32m============================== \u001b[32m\u001b[1m9 passed\u001b[0m\u001b[32m in 0.85s\u001b[0m\u001b[32m ===============================\u001b[0m\n"
     ]
    }
   ],
   "source": [
    "## PBP unit tests (to verify basic functionality)\n",
    "!python -m pytest "
   ]
  },
  {
   "cell_type": "markdown",
   "id": "6fe8dc4d-97c2-4e40-a4f7-845d7e716855",
   "metadata": {},
   "source": [
    "## Workspace preparations"
   ]
  },
  {
   "cell_type": "code",
   "execution_count": 7,
   "id": "90051a8e",
   "metadata": {
    "tags": []
   },
   "outputs": [],
   "source": [
    "## Create workspace:\n",
    "!mkdir -p NB_SPACE/JSON/2022\n",
    "!mkdir -p NB_SPACE/DOWNLOADS\n",
    "!mkdir -p NB_SPACE/OUTPUT\n"
   ]
  },
  {
   "cell_type": "code",
   "execution_count": 8,
   "id": "069286c7",
   "metadata": {
    "tags": []
   },
   "outputs": [],
   "source": [
    "## Manually upload the JSON files for the desired days (NB_SPACE/JSON/2022/)\n",
    "\n",
    "## If `aws` is available:\n",
    "#!aws s3 sync --no-sign-request s3://pacific-sound-metadata/mb05/2022/ NB_SPACE/JSON/2022/\n"
   ]
  },
  {
   "cell_type": "markdown",
   "id": "9fb10e07-b1dd-4a18-979c-1289730746fa",
   "metadata": {},
   "source": [
    "## Imports"
   ]
  },
  {
   "cell_type": "code",
   "execution_count": 9,
   "id": "6058bd01",
   "metadata": {
    "tags": []
   },
   "outputs": [],
   "source": [
    "import logging\n",
    "import os\n",
    "import sys\n",
    "sys.path = ['.'] + sys.path\n",
    "from src.process_helper import ProcessHelper\n",
    "from src.file_helper import FileHelper\n",
    "from src.logging_helper import create_logger\n",
    "\n",
    "import xarray as xr\n",
    "import numpy as np\n",
    "import dask\n",
    "import time\n",
    "\n",
    "## NOTE: these ones only temporarily while we get the necessary files in place\n",
    "import boto3\n",
    "from botocore import UNSIGNED\n",
    "from botocore.client import Config\n"
   ]
  },
  {
   "cell_type": "markdown",
   "id": "421e4acf-b060-40d3-9009-f6c94d1e0d84",
   "metadata": {},
   "source": [
    "## A function to process a given day"
   ]
  },
  {
   "cell_type": "code",
   "execution_count": 10,
   "id": "9d440360",
   "metadata": {
    "tags": []
   },
   "outputs": [],
   "source": [
    "def process_date(date: str):\n",
    "    \"\"\"\n",
    "    Main function to generate the HMB product for a given day.\n",
    "    \n",
    "    It makes use of supporting elements in PBP in terms of logging,\n",
    "    file handling, and PyPAM based HMB generation.\n",
    "\n",
    "    :param date: Date to process in YYYYMMDD format.\n",
    "    :return: the generated xarray dataset.\n",
    "    \"\"\"\n",
    "    \n",
    "    ## Definitions below to be consistent with our workspace preparations.\n",
    "\n",
    "    output_dir             = 'NB_SPACE/OUTPUT'\n",
    "    output_prefix          = 'MB05_'\n",
    "\n",
    "    log_filename = f\"{output_dir}/{output_prefix}{date}.log\"\n",
    "\n",
    "    logger = create_logger(\n",
    "        log_filename_and_level=(log_filename, logging.INFO),\n",
    "        console_level=None,  # logging.INFO,\n",
    "    )\n",
    "\n",
    "    ## Note: we use S3 URIS and boto as general mechanism to get our files from AWS.\n",
    "    ## In this notebook, we have already downloaded the necessary files for the demonstration.\n",
    "    ## The settings below allow us to still continue using the original S3 URIs without\n",
    "    ## triggering any new downloads.\n",
    "    s3_client = boto3.client(\"s3\", config=Config(signature_version=UNSIGNED))\n",
    "    ## Note: in our general cloud-based setup, downloaded files are removed after been used.\n",
    "    ## The following allows us to keep the downloaded files:\n",
    "    os.environ[\"ASSUME_DOWNLOADED_FILES\"] = \"yes\"\n",
    "    os.environ[\"REMOVE_DOWNLOADED_FILES\"] = \"no\"\n",
    "\n",
    "    file_helper = FileHelper(\n",
    "        logger=logger,\n",
    "        json_base_dir     = 'NB_SPACE/JSON',\n",
    "        s3_client         = s3_client,\n",
    "        download_dir      = 'NB_SPACE/DOWNLOADS',\n",
    "    )\n",
    "\n",
    "    process_helper = ProcessHelper(\n",
    "        logger=logger,\n",
    "        file_helper=file_helper,\n",
    "        output_dir             = output_dir,\n",
    "        output_prefix          = output_prefix,\n",
    "        global_attrs_uri       = 'metadata/mb05/globalAttributes_MB05.yaml',\n",
    "        variable_attrs_uri     = 'metadata/mb05/variableAttributes_MB05.yaml',\n",
    "        voltage_multiplier     = 1,\n",
    "        sensitivity_flat_value = 176,\n",
    "        subset_to              = (10, 24_000),\n",
    "        # max_segments=1, ## NOTE: this one only used while testing the notebook! -- TO BE REMOVED\n",
    "    )\n",
    "\n",
    "    ## For reporting purposes below (we know this will be the generated NetCDF path)\n",
    "    nc_filename = f\"{output_dir}/{output_prefix}{date}.nc\"\n",
    "\n",
    "    ## now, get the HMB result:\n",
    "    print(f'::: Started processing {date=}    {log_filename=}')\n",
    "    result = process_helper.process_day(date)\n",
    "    print(f':::   Ended processing {date=} =>  {nc_filename=}')\n",
    "\n",
    "    if result is not None:\n",
    "        return result.dataset\n",
    "    else:\n",
    "        print(f'::: UNEXPECTED: no segments were processed for {date=}')"
   ]
  },
  {
   "cell_type": "markdown",
   "id": "71cee960-d5e4-4574-8dd3-f5f30d772869",
   "metadata": {
    "tags": []
   },
   "source": [
    "## Generating the HMB products"
   ]
  },
  {
   "cell_type": "markdown",
   "id": "e8c33ce9-61ed-4169-a976-cb721d472565",
   "metadata": {},
   "source": [
    "### Processing a day"
   ]
  },
  {
   "cell_type": "code",
   "execution_count": 11,
   "id": "99d7252d-45e2-46e8-9379-f072d5d674c5",
   "metadata": {
    "tags": []
   },
   "outputs": [
    {
     "name": "stdout",
     "output_type": "stream",
     "text": [
      "::: Started processing date='20220812'    log_filename='NB_SPACE/OUTPUT/MB05_20220812.log'\n",
      ":::   Ended processing date='20220812' =>  nc_filename='NB_SPACE/OUTPUT/MB05_20220812.nc'\n",
      "===> date completed. Elapsed time: 229.6 seconds (3.8 mins)\n"
     ]
    },
    {
     "data": {
      "text/html": [
       "<div><svg style=\"position: absolute; width: 0; height: 0; overflow: hidden\">\n",
       "<defs>\n",
       "<symbol id=\"icon-database\" viewBox=\"0 0 32 32\">\n",
       "<path d=\"M16 0c-8.837 0-16 2.239-16 5v4c0 2.761 7.163 5 16 5s16-2.239 16-5v-4c0-2.761-7.163-5-16-5z\"></path>\n",
       "<path d=\"M16 17c-8.837 0-16-2.239-16-5v6c0 2.761 7.163 5 16 5s16-2.239 16-5v-6c0 2.761-7.163 5-16 5z\"></path>\n",
       "<path d=\"M16 26c-8.837 0-16-2.239-16-5v6c0 2.761 7.163 5 16 5s16-2.239 16-5v-6c0 2.761-7.163 5-16 5z\"></path>\n",
       "</symbol>\n",
       "<symbol id=\"icon-file-text2\" viewBox=\"0 0 32 32\">\n",
       "<path d=\"M28.681 7.159c-0.694-0.947-1.662-2.053-2.724-3.116s-2.169-2.030-3.116-2.724c-1.612-1.182-2.393-1.319-2.841-1.319h-15.5c-1.378 0-2.5 1.121-2.5 2.5v27c0 1.378 1.122 2.5 2.5 2.5h23c1.378 0 2.5-1.122 2.5-2.5v-19.5c0-0.448-0.137-1.23-1.319-2.841zM24.543 5.457c0.959 0.959 1.712 1.825 2.268 2.543h-4.811v-4.811c0.718 0.556 1.584 1.309 2.543 2.268zM28 29.5c0 0.271-0.229 0.5-0.5 0.5h-23c-0.271 0-0.5-0.229-0.5-0.5v-27c0-0.271 0.229-0.5 0.5-0.5 0 0 15.499-0 15.5 0v7c0 0.552 0.448 1 1 1h7v19.5z\"></path>\n",
       "<path d=\"M23 26h-14c-0.552 0-1-0.448-1-1s0.448-1 1-1h14c0.552 0 1 0.448 1 1s-0.448 1-1 1z\"></path>\n",
       "<path d=\"M23 22h-14c-0.552 0-1-0.448-1-1s0.448-1 1-1h14c0.552 0 1 0.448 1 1s-0.448 1-1 1z\"></path>\n",
       "<path d=\"M23 18h-14c-0.552 0-1-0.448-1-1s0.448-1 1-1h14c0.552 0 1 0.448 1 1s-0.448 1-1 1z\"></path>\n",
       "</symbol>\n",
       "</defs>\n",
       "</svg>\n",
       "<style>/* CSS stylesheet for displaying xarray objects in jupyterlab.\n",
       " *\n",
       " */\n",
       "\n",
       ":root {\n",
       "  --xr-font-color0: var(--jp-content-font-color0, rgba(0, 0, 0, 1));\n",
       "  --xr-font-color2: var(--jp-content-font-color2, rgba(0, 0, 0, 0.54));\n",
       "  --xr-font-color3: var(--jp-content-font-color3, rgba(0, 0, 0, 0.38));\n",
       "  --xr-border-color: var(--jp-border-color2, #e0e0e0);\n",
       "  --xr-disabled-color: var(--jp-layout-color3, #bdbdbd);\n",
       "  --xr-background-color: var(--jp-layout-color0, white);\n",
       "  --xr-background-color-row-even: var(--jp-layout-color1, white);\n",
       "  --xr-background-color-row-odd: var(--jp-layout-color2, #eeeeee);\n",
       "}\n",
       "\n",
       "html[theme=dark],\n",
       "body[data-theme=dark],\n",
       "body.vscode-dark {\n",
       "  --xr-font-color0: rgba(255, 255, 255, 1);\n",
       "  --xr-font-color2: rgba(255, 255, 255, 0.54);\n",
       "  --xr-font-color3: rgba(255, 255, 255, 0.38);\n",
       "  --xr-border-color: #1F1F1F;\n",
       "  --xr-disabled-color: #515151;\n",
       "  --xr-background-color: #111111;\n",
       "  --xr-background-color-row-even: #111111;\n",
       "  --xr-background-color-row-odd: #313131;\n",
       "}\n",
       "\n",
       ".xr-wrap {\n",
       "  display: block !important;\n",
       "  min-width: 300px;\n",
       "  max-width: 700px;\n",
       "}\n",
       "\n",
       ".xr-text-repr-fallback {\n",
       "  /* fallback to plain text repr when CSS is not injected (untrusted notebook) */\n",
       "  display: none;\n",
       "}\n",
       "\n",
       ".xr-header {\n",
       "  padding-top: 6px;\n",
       "  padding-bottom: 6px;\n",
       "  margin-bottom: 4px;\n",
       "  border-bottom: solid 1px var(--xr-border-color);\n",
       "}\n",
       "\n",
       ".xr-header > div,\n",
       ".xr-header > ul {\n",
       "  display: inline;\n",
       "  margin-top: 0;\n",
       "  margin-bottom: 0;\n",
       "}\n",
       "\n",
       ".xr-obj-type,\n",
       ".xr-array-name {\n",
       "  margin-left: 2px;\n",
       "  margin-right: 10px;\n",
       "}\n",
       "\n",
       ".xr-obj-type {\n",
       "  color: var(--xr-font-color2);\n",
       "}\n",
       "\n",
       ".xr-sections {\n",
       "  padding-left: 0 !important;\n",
       "  display: grid;\n",
       "  grid-template-columns: 150px auto auto 1fr 20px 20px;\n",
       "}\n",
       "\n",
       ".xr-section-item {\n",
       "  display: contents;\n",
       "}\n",
       "\n",
       ".xr-section-item input {\n",
       "  display: none;\n",
       "}\n",
       "\n",
       ".xr-section-item input + label {\n",
       "  color: var(--xr-disabled-color);\n",
       "}\n",
       "\n",
       ".xr-section-item input:enabled + label {\n",
       "  cursor: pointer;\n",
       "  color: var(--xr-font-color2);\n",
       "}\n",
       "\n",
       ".xr-section-item input:enabled + label:hover {\n",
       "  color: var(--xr-font-color0);\n",
       "}\n",
       "\n",
       ".xr-section-summary {\n",
       "  grid-column: 1;\n",
       "  color: var(--xr-font-color2);\n",
       "  font-weight: 500;\n",
       "}\n",
       "\n",
       ".xr-section-summary > span {\n",
       "  display: inline-block;\n",
       "  padding-left: 0.5em;\n",
       "}\n",
       "\n",
       ".xr-section-summary-in:disabled + label {\n",
       "  color: var(--xr-font-color2);\n",
       "}\n",
       "\n",
       ".xr-section-summary-in + label:before {\n",
       "  display: inline-block;\n",
       "  content: '►';\n",
       "  font-size: 11px;\n",
       "  width: 15px;\n",
       "  text-align: center;\n",
       "}\n",
       "\n",
       ".xr-section-summary-in:disabled + label:before {\n",
       "  color: var(--xr-disabled-color);\n",
       "}\n",
       "\n",
       ".xr-section-summary-in:checked + label:before {\n",
       "  content: '▼';\n",
       "}\n",
       "\n",
       ".xr-section-summary-in:checked + label > span {\n",
       "  display: none;\n",
       "}\n",
       "\n",
       ".xr-section-summary,\n",
       ".xr-section-inline-details {\n",
       "  padding-top: 4px;\n",
       "  padding-bottom: 4px;\n",
       "}\n",
       "\n",
       ".xr-section-inline-details {\n",
       "  grid-column: 2 / -1;\n",
       "}\n",
       "\n",
       ".xr-section-details {\n",
       "  display: none;\n",
       "  grid-column: 1 / -1;\n",
       "  margin-bottom: 5px;\n",
       "}\n",
       "\n",
       ".xr-section-summary-in:checked ~ .xr-section-details {\n",
       "  display: contents;\n",
       "}\n",
       "\n",
       ".xr-array-wrap {\n",
       "  grid-column: 1 / -1;\n",
       "  display: grid;\n",
       "  grid-template-columns: 20px auto;\n",
       "}\n",
       "\n",
       ".xr-array-wrap > label {\n",
       "  grid-column: 1;\n",
       "  vertical-align: top;\n",
       "}\n",
       "\n",
       ".xr-preview {\n",
       "  color: var(--xr-font-color3);\n",
       "}\n",
       "\n",
       ".xr-array-preview,\n",
       ".xr-array-data {\n",
       "  padding: 0 5px !important;\n",
       "  grid-column: 2;\n",
       "}\n",
       "\n",
       ".xr-array-data,\n",
       ".xr-array-in:checked ~ .xr-array-preview {\n",
       "  display: none;\n",
       "}\n",
       "\n",
       ".xr-array-in:checked ~ .xr-array-data,\n",
       ".xr-array-preview {\n",
       "  display: inline-block;\n",
       "}\n",
       "\n",
       ".xr-dim-list {\n",
       "  display: inline-block !important;\n",
       "  list-style: none;\n",
       "  padding: 0 !important;\n",
       "  margin: 0;\n",
       "}\n",
       "\n",
       ".xr-dim-list li {\n",
       "  display: inline-block;\n",
       "  padding: 0;\n",
       "  margin: 0;\n",
       "}\n",
       "\n",
       ".xr-dim-list:before {\n",
       "  content: '(';\n",
       "}\n",
       "\n",
       ".xr-dim-list:after {\n",
       "  content: ')';\n",
       "}\n",
       "\n",
       ".xr-dim-list li:not(:last-child):after {\n",
       "  content: ',';\n",
       "  padding-right: 5px;\n",
       "}\n",
       "\n",
       ".xr-has-index {\n",
       "  font-weight: bold;\n",
       "}\n",
       "\n",
       ".xr-var-list,\n",
       ".xr-var-item {\n",
       "  display: contents;\n",
       "}\n",
       "\n",
       ".xr-var-item > div,\n",
       ".xr-var-item label,\n",
       ".xr-var-item > .xr-var-name span {\n",
       "  background-color: var(--xr-background-color-row-even);\n",
       "  margin-bottom: 0;\n",
       "}\n",
       "\n",
       ".xr-var-item > .xr-var-name:hover span {\n",
       "  padding-right: 5px;\n",
       "}\n",
       "\n",
       ".xr-var-list > li:nth-child(odd) > div,\n",
       ".xr-var-list > li:nth-child(odd) > label,\n",
       ".xr-var-list > li:nth-child(odd) > .xr-var-name span {\n",
       "  background-color: var(--xr-background-color-row-odd);\n",
       "}\n",
       "\n",
       ".xr-var-name {\n",
       "  grid-column: 1;\n",
       "}\n",
       "\n",
       ".xr-var-dims {\n",
       "  grid-column: 2;\n",
       "}\n",
       "\n",
       ".xr-var-dtype {\n",
       "  grid-column: 3;\n",
       "  text-align: right;\n",
       "  color: var(--xr-font-color2);\n",
       "}\n",
       "\n",
       ".xr-var-preview {\n",
       "  grid-column: 4;\n",
       "}\n",
       "\n",
       ".xr-index-preview {\n",
       "  grid-column: 2 / 5;\n",
       "  color: var(--xr-font-color2);\n",
       "}\n",
       "\n",
       ".xr-var-name,\n",
       ".xr-var-dims,\n",
       ".xr-var-dtype,\n",
       ".xr-preview,\n",
       ".xr-attrs dt {\n",
       "  white-space: nowrap;\n",
       "  overflow: hidden;\n",
       "  text-overflow: ellipsis;\n",
       "  padding-right: 10px;\n",
       "}\n",
       "\n",
       ".xr-var-name:hover,\n",
       ".xr-var-dims:hover,\n",
       ".xr-var-dtype:hover,\n",
       ".xr-attrs dt:hover {\n",
       "  overflow: visible;\n",
       "  width: auto;\n",
       "  z-index: 1;\n",
       "}\n",
       "\n",
       ".xr-var-attrs,\n",
       ".xr-var-data,\n",
       ".xr-index-data {\n",
       "  display: none;\n",
       "  background-color: var(--xr-background-color) !important;\n",
       "  padding-bottom: 5px !important;\n",
       "}\n",
       "\n",
       ".xr-var-attrs-in:checked ~ .xr-var-attrs,\n",
       ".xr-var-data-in:checked ~ .xr-var-data,\n",
       ".xr-index-data-in:checked ~ .xr-index-data {\n",
       "  display: block;\n",
       "}\n",
       "\n",
       ".xr-var-data > table {\n",
       "  float: right;\n",
       "}\n",
       "\n",
       ".xr-var-name span,\n",
       ".xr-var-data,\n",
       ".xr-index-name div,\n",
       ".xr-index-data,\n",
       ".xr-attrs {\n",
       "  padding-left: 25px !important;\n",
       "}\n",
       "\n",
       ".xr-attrs,\n",
       ".xr-var-attrs,\n",
       ".xr-var-data,\n",
       ".xr-index-data {\n",
       "  grid-column: 1 / -1;\n",
       "}\n",
       "\n",
       "dl.xr-attrs {\n",
       "  padding: 0;\n",
       "  margin: 0;\n",
       "  display: grid;\n",
       "  grid-template-columns: 125px auto;\n",
       "}\n",
       "\n",
       ".xr-attrs dt,\n",
       ".xr-attrs dd {\n",
       "  padding: 0;\n",
       "  margin: 0;\n",
       "  float: left;\n",
       "  padding-right: 10px;\n",
       "  width: auto;\n",
       "}\n",
       "\n",
       ".xr-attrs dt {\n",
       "  font-weight: normal;\n",
       "  grid-column: 1;\n",
       "}\n",
       "\n",
       ".xr-attrs dt:hover span {\n",
       "  display: inline-block;\n",
       "  background: var(--xr-background-color);\n",
       "  padding-right: 10px;\n",
       "}\n",
       "\n",
       ".xr-attrs dd {\n",
       "  grid-column: 2;\n",
       "  white-space: pre-wrap;\n",
       "  word-break: break-all;\n",
       "}\n",
       "\n",
       ".xr-icon-database,\n",
       ".xr-icon-file-text2,\n",
       ".xr-no-icon {\n",
       "  display: inline-block;\n",
       "  vertical-align: middle;\n",
       "  width: 1em;\n",
       "  height: 1.5em !important;\n",
       "  stroke-width: 0;\n",
       "  stroke: currentColor;\n",
       "  fill: currentColor;\n",
       "}\n",
       "</style><pre class='xr-text-repr-fallback'>&lt;xarray.Dataset&gt;\n",
       "Dimensions:      (time: 1440, frequency: 2167, 1: 1)\n",
       "Coordinates:\n",
       "  * time         (time) int64 1660262400 1660262460 ... 1660348680 1660348740\n",
       "  * frequency    (frequency) float32 10.0 11.0 12.0 ... 2.391e+04 2.396e+04\n",
       "Dimensions without coordinates: 1\n",
       "Data variables:\n",
       "    psd          (time, frequency) float32 76.03 74.84 73.22 ... 40.52 40.56\n",
       "    effort       (time) float32 60.0 60.0 60.0 60.0 60.0 ... 60.0 60.0 60.0 60.0\n",
       "    sensitivity  (1) float32 176.0\n",
       "Attributes: (12/29)\n",
       "    title:                     Hybrid Millidecade Band Sound Pressure Levels ...\n",
       "    Summary:                   To understand natural and anthropogenic sound ...\n",
       "    Conventions:               COARDS, CF-1.6, ACDD-1.3\n",
       "    keywords:                  oceans, ocean acoustics, ambient noise, intens...\n",
       "    keywords_vocabulary:       GCMD Science Keywords\n",
       "    history:                   Original hybrid millidecade spectra were produ...\n",
       "    ...                        ...\n",
       "    time_coverage_duration:    P1D\n",
       "    time_coverage_resolution:  P60S\n",
       "    platform:                  SanctSound MB05 mooring\n",
       "    instrument:                SoundTrap ST600 HF, SN 6715\n",
       "    cdm_data_type:             TimeSeries\n",
       "    references:                Computation of single-sided mean-square sound ...</pre><div class='xr-wrap' style='display:none'><div class='xr-header'><div class='xr-obj-type'>xarray.Dataset</div></div><ul class='xr-sections'><li class='xr-section-item'><input id='section-d4b7b720-b099-4566-b095-9afeba801aca' class='xr-section-summary-in' type='checkbox' disabled ><label for='section-d4b7b720-b099-4566-b095-9afeba801aca' class='xr-section-summary'  title='Expand/collapse section'>Dimensions:</label><div class='xr-section-inline-details'><ul class='xr-dim-list'><li><span class='xr-has-index'>time</span>: 1440</li><li><span class='xr-has-index'>frequency</span>: 2167</li><li><span>1</span>: 1</li></ul></div><div class='xr-section-details'></div></li><li class='xr-section-item'><input id='section-7a525ccf-2a7c-4356-9bae-a8adbba990a4' class='xr-section-summary-in' type='checkbox'  checked><label for='section-7a525ccf-2a7c-4356-9bae-a8adbba990a4' class='xr-section-summary' >Coordinates: <span>(2)</span></label><div class='xr-section-inline-details'></div><div class='xr-section-details'><ul class='xr-var-list'><li class='xr-var-item'><div class='xr-var-name'><span class='xr-has-index'>time</span></div><div class='xr-var-dims'>(time)</div><div class='xr-var-dtype'>int64</div><div class='xr-var-preview xr-preview'>1660262400 ... 1660348740</div><input id='attrs-1b06a5a4-5469-4ddd-b76f-3d7c6704f260' class='xr-var-attrs-in' type='checkbox' ><label for='attrs-1b06a5a4-5469-4ddd-b76f-3d7c6704f260' title='Show/Hide attributes'><svg class='icon xr-icon-file-text2'><use xlink:href='#icon-file-text2'></use></svg></label><input id='data-2ca4750d-d5a3-4123-b3f3-8f83a8aceada' class='xr-var-data-in' type='checkbox'><label for='data-2ca4750d-d5a3-4123-b3f3-8f83a8aceada' title='Show/Hide data repr'><svg class='icon xr-icon-database'><use xlink:href='#icon-database'></use></svg></label><div class='xr-var-attrs'><dl class='xr-attrs'><dt><span>standard_name :</span></dt><dd>time</dd><dt><span>long_name :</span></dt><dd>UTC time beginning each 1-minute temporal bin</dd><dt><span>units :</span></dt><dd>seconds since 1970-01-01T00:00:00Z</dd><dt><span>coverage_content_type :</span></dt><dd>coordinate</dd></dl></div><div class='xr-var-data'><pre>array([1660262400, 1660262460, 1660262520, ..., 1660348620, 1660348680,\n",
       "       1660348740])</pre></div></li><li class='xr-var-item'><div class='xr-var-name'><span class='xr-has-index'>frequency</span></div><div class='xr-var-dims'>(frequency)</div><div class='xr-var-dtype'>float32</div><div class='xr-var-preview xr-preview'>10.0 11.0 ... 2.391e+04 2.396e+04</div><input id='attrs-aa9a3e0f-3523-40c8-9a68-fa80ed8df081' class='xr-var-attrs-in' type='checkbox' ><label for='attrs-aa9a3e0f-3523-40c8-9a68-fa80ed8df081' title='Show/Hide attributes'><svg class='icon xr-icon-file-text2'><use xlink:href='#icon-file-text2'></use></svg></label><input id='data-3bcdb0f9-8f8a-434c-876a-aea0b7bbcc78' class='xr-var-data-in' type='checkbox'><label for='data-3bcdb0f9-8f8a-434c-876a-aea0b7bbcc78' title='Show/Hide data repr'><svg class='icon xr-icon-database'><use xlink:href='#icon-database'></use></svg></label><div class='xr-var-attrs'><dl class='xr-attrs'><dt><span>standard_name :</span></dt><dd>sound_frequency</dd><dt><span>long_name :</span></dt><dd>Center frequency of hybrid millidecade spectral bands</dd><dt><span>units :</span></dt><dd>Hz</dd><dt><span>coverage_content_type :</span></dt><dd>coordinate</dd></dl></div><div class='xr-var-data'><pre>array([1.000000e+01, 1.100000e+01, 1.200000e+01, ..., 2.385064e+04,\n",
       "       2.390562e+04, 2.396073e+04], dtype=float32)</pre></div></li></ul></div></li><li class='xr-section-item'><input id='section-7052fb43-efc8-40aa-9c47-d82158910908' class='xr-section-summary-in' type='checkbox'  checked><label for='section-7052fb43-efc8-40aa-9c47-d82158910908' class='xr-section-summary' >Data variables: <span>(3)</span></label><div class='xr-section-inline-details'></div><div class='xr-section-details'><ul class='xr-var-list'><li class='xr-var-item'><div class='xr-var-name'><span>psd</span></div><div class='xr-var-dims'>(time, frequency)</div><div class='xr-var-dtype'>float32</div><div class='xr-var-preview xr-preview'>76.03 74.84 73.22 ... 40.52 40.56</div><input id='attrs-f72716aa-4190-40a4-b894-ab1dac4bb44c' class='xr-var-attrs-in' type='checkbox' ><label for='attrs-f72716aa-4190-40a4-b894-ab1dac4bb44c' title='Show/Hide attributes'><svg class='icon xr-icon-file-text2'><use xlink:href='#icon-file-text2'></use></svg></label><input id='data-ffaa005c-85b6-4a13-8709-68801775358f' class='xr-var-data-in' type='checkbox'><label for='data-ffaa005c-85b6-4a13-8709-68801775358f' title='Show/Hide data repr'><svg class='icon xr-icon-database'><use xlink:href='#icon-database'></use></svg></label><div class='xr-var-attrs'><dl class='xr-attrs'><dt><span>standard_name :</span></dt><dd>sound_intensity_in_water</dd><dt><span>long_name :</span></dt><dd>Single-sided mean-square sound pressure spectral density (dB re 1 µPa^2/Hz)</dd><dt><span>units :</span></dt><dd>dB</dd><dt><span>coverage_content_type :</span></dt><dd>physicalMeasurement</dd><dt><span>comment :</span></dt><dd>Computation followed ISO 18405 3.1.3.13.</dd></dl></div><div class='xr-var-data'><pre>array([[76.0268  , 74.83874 , 73.21746 , ..., 39.4218  , 39.44683 ,\n",
       "        39.46503 ],\n",
       "       [75.73441 , 74.88714 , 72.89627 , ..., 39.421074, 39.539047,\n",
       "        39.39121 ],\n",
       "       [75.697815, 75.7272  , 74.19536 , ..., 39.231438, 39.13325 ,\n",
       "        39.238747],\n",
       "       ...,\n",
       "       [62.798016, 64.06388 , 66.122826, ..., 41.435986, 41.468307,\n",
       "        41.37478 ],\n",
       "       [62.073593, 64.08011 , 64.74491 , ..., 40.804714, 40.589058,\n",
       "        40.721176],\n",
       "       [62.11905 , 63.23818 , 64.15139 , ..., 40.497353, 40.51543 ,\n",
       "        40.55737 ]], dtype=float32)</pre></div></li><li class='xr-var-item'><div class='xr-var-name'><span>effort</span></div><div class='xr-var-dims'>(time)</div><div class='xr-var-dtype'>float32</div><div class='xr-var-preview xr-preview'>60.0 60.0 60.0 ... 60.0 60.0 60.0</div><input id='attrs-b2e85c4d-d4fa-46f5-814d-c2ae063bf18c' class='xr-var-attrs-in' type='checkbox' ><label for='attrs-b2e85c4d-d4fa-46f5-814d-c2ae063bf18c' title='Show/Hide attributes'><svg class='icon xr-icon-file-text2'><use xlink:href='#icon-file-text2'></use></svg></label><input id='data-435bb4e5-a1a2-440c-8548-282bfab116e7' class='xr-var-data-in' type='checkbox'><label for='data-435bb4e5-a1a2-440c-8548-282bfab116e7' title='Show/Hide data repr'><svg class='icon xr-icon-database'><use xlink:href='#icon-database'></use></svg></label><div class='xr-var-attrs'><dl class='xr-attrs'><dt><span>long_name :</span></dt><dd>Duration of input data available for each 1-minute bin</dd><dt><span>coverage_content_type :</span></dt><dd>qualityInformation</dd><dt><span>units :</span></dt><dd>seconds</dd></dl></div><div class='xr-var-data'><pre>array([60., 60., 60., ..., 60., 60., 60.], dtype=float32)</pre></div></li><li class='xr-var-item'><div class='xr-var-name'><span>sensitivity</span></div><div class='xr-var-dims'>(1)</div><div class='xr-var-dtype'>float32</div><div class='xr-var-preview xr-preview'>176.0</div><input id='attrs-38fc0392-5b72-4d29-b71a-cc14ccab7ad9' class='xr-var-attrs-in' type='checkbox' ><label for='attrs-38fc0392-5b72-4d29-b71a-cc14ccab7ad9' title='Show/Hide attributes'><svg class='icon xr-icon-file-text2'><use xlink:href='#icon-file-text2'></use></svg></label><input id='data-2674c476-0e1a-49fb-bf7f-7b09459b62da' class='xr-var-data-in' type='checkbox'><label for='data-2674c476-0e1a-49fb-bf7f-7b09459b62da' title='Show/Hide data repr'><svg class='icon xr-icon-database'><use xlink:href='#icon-database'></use></svg></label><div class='xr-var-attrs'><dl class='xr-attrs'><dt><span>long_name :</span></dt><dd>Hydrophone sensitivity (dB re 1 volt / µPa)</dd><dt><span>units :</span></dt><dd>dB</dd><dt><span>coverage_content_type :</span></dt><dd>physicalMeasurement</dd><dt><span>comment :</span></dt><dd>As specified in the user manual, the SoundTrap 600 HF hydrophone integrates the recorder and hydrophone in a single package, and the relationship between sound pressure and the resultant wav file data is fixed. A single calibration value is used to compute a converstion factor (10^[cal/20]) that is multiplied by wav data to convert to µPa.</dd></dl></div><div class='xr-var-data'><pre>array([176.], dtype=float32)</pre></div></li></ul></div></li><li class='xr-section-item'><input id='section-78980d99-339f-4c03-8010-c89425a4ef2a' class='xr-section-summary-in' type='checkbox'  ><label for='section-78980d99-339f-4c03-8010-c89425a4ef2a' class='xr-section-summary' >Indexes: <span>(2)</span></label><div class='xr-section-inline-details'></div><div class='xr-section-details'><ul class='xr-var-list'><li class='xr-var-item'><div class='xr-index-name'><div>time</div></div><div class='xr-index-preview'>PandasIndex</div><div></div><input id='index-d19a6d4b-1849-4af7-94a8-718ea8f84508' class='xr-index-data-in' type='checkbox'/><label for='index-d19a6d4b-1849-4af7-94a8-718ea8f84508' title='Show/Hide index repr'><svg class='icon xr-icon-database'><use xlink:href='#icon-database'></use></svg></label><div class='xr-index-data'><pre>PandasIndex(Index([1660262400, 1660262460, 1660262520, 1660262580, 1660262640, 1660262700,\n",
       "       1660262760, 1660262820, 1660262880, 1660262940,\n",
       "       ...\n",
       "       1660348200, 1660348260, 1660348320, 1660348380, 1660348440, 1660348500,\n",
       "       1660348560, 1660348620, 1660348680, 1660348740],\n",
       "      dtype=&#x27;int64&#x27;, name=&#x27;time&#x27;, length=1440))</pre></div></li><li class='xr-var-item'><div class='xr-index-name'><div>frequency</div></div><div class='xr-index-preview'>PandasIndex</div><div></div><input id='index-5ba4a555-6d46-49f0-a51b-5bb6845055f9' class='xr-index-data-in' type='checkbox'/><label for='index-5ba4a555-6d46-49f0-a51b-5bb6845055f9' title='Show/Hide index repr'><svg class='icon xr-icon-database'><use xlink:href='#icon-database'></use></svg></label><div class='xr-index-data'><pre>PandasIndex(Index([           10.0,            11.0,            12.0,            13.0,\n",
       "                  14.0,            15.0,            16.0,            17.0,\n",
       "                  18.0,            19.0,\n",
       "       ...\n",
       "        23469.29296875,  23523.39453125,  23577.62109375, 23631.974609375,\n",
       "       23686.451171875,   23741.0546875, 23795.783203125, 23850.638671875,\n",
       "       23905.619140625,   23960.7265625],\n",
       "      dtype=&#x27;float32&#x27;, name=&#x27;frequency&#x27;, length=2167))</pre></div></li></ul></div></li><li class='xr-section-item'><input id='section-3a93da2d-747a-4a83-a81d-27f0d84ebd9e' class='xr-section-summary-in' type='checkbox'  ><label for='section-3a93da2d-747a-4a83-a81d-27f0d84ebd9e' class='xr-section-summary' >Attributes: <span>(29)</span></label><div class='xr-section-inline-details'></div><div class='xr-section-details'><dl class='xr-attrs'><dt><span>title :</span></dt><dd>Hybrid Millidecade Band Sound Pressure Levels Computed at 1 Minute Resolution from Oceanic Passive Acoustic Monitoring Recordings at site MB05 in Southern Monterey Bay National Marine Sanctuary, California USA</dd><dt><span>Summary :</span></dt><dd>To understand natural and anthropogenic sound in the ocean, and to compare underwater soundscapes globally, standard methods of analysis must be applied to passive acoustic monitoring (PAM) data. Methods that balance constrained volume and adequate resolution of acoustic spectra have recently been published (Martin et al., 2021a,b). A community effort supported by NOAA, BOEM, U.S. Navy, and ONR was initiated to apply these methods to PAM datasets from around the world. This record represents the hybrid millidecade band (HMB) spectra of sound levels derived from calibrated PAM data.</dd><dt><span>Conventions :</span></dt><dd>COARDS, CF-1.6, ACDD-1.3</dd><dt><span>keywords :</span></dt><dd>oceans, ocean acoustics, ambient noise, intensity, marine environment monitoring, marine habitat, sound_intensity_level_in_water, soundscapes</dd><dt><span>keywords_vocabulary :</span></dt><dd>GCMD Science Keywords</dd><dt><span>history :</span></dt><dd>Original hybrid millidecade spectra were produced by the Monterey Bay Aquarium Research Institute</dd><dt><span>source :</span></dt><dd>Data analysis was performed using Python Passive Acoustic Monitoring (PyPAM) software, version 0.2.0, to produce hybrid millidecade band (HMB) spectra of sound levels from oceanic audio recordings.  Processing followed the methods defined in Martin et al. (2021a,b), and results were validated by comparison with results produced using the MATLAB code provided as supplemental material in Martin et al. (2021b).  Input wav data were computed to µPa, and power spectral density (PSD) levels were computed from 1-minute segments of audio data using Welch&#x27;s method.  By applying fast Fourier transform (FFT) with length equal to the sample rate, using Hann window and 50% overlap, PSD estimates (µPa^2/Hz) were computed with a frequency resolution of 1 Hz and a temporal resolution of 1 second. The 119 PSD estimates from each 1-minute segment were averaged, and the average spectrum for each minute was further processed to an HMB spectrum following Martin et al. (2021b).</dd><dt><span>acknowledgement :</span></dt><dd>Hydrophone deployments at Site MB05 have been jointly supported by NOAA, MBARI, and the Naval Postgraduate School.  These products support the Passive Acoustic Monitoring National Cyberinfrastructure (SoundCoop) project funded by the NOAA Integrated Ocean Observatory System, Bureau of Ocean Energy Management, U.S. Navy Living Marine Resources, and Office of Naval Research.</dd><dt><span>license :</span></dt><dd>CC 4.0</dd><dt><span>standard_name_vocabulary :</span></dt><dd>CF Standard Name Table v80</dd><dt><span>date_created :</span></dt><dd>2023-10-19</dd><dt><span>creator_name :</span></dt><dd>John Ryan</dd><dt><span>creator_email :</span></dt><dd>ryjo@mbari.org</dd><dt><span>creator_url :</span></dt><dd>www.mbari.org/person/john-ryan/</dd><dt><span>institution :</span></dt><dd>Monterey Bay Aquarium Research Institute</dd><dt><span>project :</span></dt><dd>MBARI Ocean Soundscape Project, www.mbari.org/team/ocean-soundscape/</dd><dt><span>publisher_name :</span></dt><dd>NOAA National Centers for Environmental Information</dd><dt><span>publisher_email :</span></dt><dd>pad.info@noaa.gov</dd><dt><span>publisher_url :</span></dt><dd>https://www.ncei.noaa.gov/products/passive-acoustic-data</dd><dt><span>geospatial_bounds :</span></dt><dd>POINT (35.77 -121.43)</dd><dt><span>comment :</span></dt><dd>The hydrophone is attached to a line on a subsurface mooring near the continental shelf break, at the head of La Cruz Canyon, 98 m water depth.</dd><dt><span>time_coverage_start :</span></dt><dd>2022-08-12 00:00:00Z</dd><dt><span>time_coverage_end :</span></dt><dd>2022-08-12 23:59:00Z</dd><dt><span>time_coverage_duration :</span></dt><dd>P1D</dd><dt><span>time_coverage_resolution :</span></dt><dd>P60S</dd><dt><span>platform :</span></dt><dd>SanctSound MB05 mooring</dd><dt><span>instrument :</span></dt><dd>SoundTrap ST600 HF, SN 6715</dd><dt><span>cdm_data_type :</span></dt><dd>TimeSeries</dd><dt><span>references :</span></dt><dd>Computation of single-sided mean-square sound pressure spectral density with 1 Hz resolution followed ISO 18405 3.1.3.13 (International Standard ISO 18405:2017(E), Underwater Acoustics – Terminology.  Geneva: ISO). Hybrid millidecade band processing followed Martin et al. (2021a,b:  https://doi.org/10.1121/10.0003324; https://doi.org/10.1121/10.0005818)</dd></dl></div></li></ul></div></div>"
      ],
      "text/plain": [
       "<xarray.Dataset>\n",
       "Dimensions:      (time: 1440, frequency: 2167, 1: 1)\n",
       "Coordinates:\n",
       "  * time         (time) int64 1660262400 1660262460 ... 1660348680 1660348740\n",
       "  * frequency    (frequency) float32 10.0 11.0 12.0 ... 2.391e+04 2.396e+04\n",
       "Dimensions without coordinates: 1\n",
       "Data variables:\n",
       "    psd          (time, frequency) float32 76.03 74.84 73.22 ... 40.52 40.56\n",
       "    effort       (time) float32 60.0 60.0 60.0 60.0 60.0 ... 60.0 60.0 60.0 60.0\n",
       "    sensitivity  (1) float32 176.0\n",
       "Attributes: (12/29)\n",
       "    title:                     Hybrid Millidecade Band Sound Pressure Levels ...\n",
       "    Summary:                   To understand natural and anthropogenic sound ...\n",
       "    Conventions:               COARDS, CF-1.6, ACDD-1.3\n",
       "    keywords:                  oceans, ocean acoustics, ambient noise, intens...\n",
       "    keywords_vocabulary:       GCMD Science Keywords\n",
       "    history:                   Original hybrid millidecade spectra were produ...\n",
       "    ...                        ...\n",
       "    time_coverage_duration:    P1D\n",
       "    time_coverage_resolution:  P60S\n",
       "    platform:                  SanctSound MB05 mooring\n",
       "    instrument:                SoundTrap ST600 HF, SN 6715\n",
       "    cdm_data_type:             TimeSeries\n",
       "    references:                Computation of single-sided mean-square sound ..."
      ]
     },
     "execution_count": 11,
     "metadata": {},
     "output_type": "execute_result"
    }
   ],
   "source": [
    "start_time = time.time()\n",
    "generated_dataset = process_date('20220812')\n",
    "elapsed_time = time.time() - start_time\n",
    "print(f'===> date completed. Elapsed time: {elapsed_time:.1f} seconds ({elapsed_time/60:.1f} mins)')\n",
    "generated_dataset"
   ]
  },
  {
   "cell_type": "markdown",
   "id": "46ac16db-da76-4478-a89c-7d89ee900dc4",
   "metadata": {},
   "source": [
    "### Prepare process_date for parallel execution\n",
    "\n",
    "Let's Dask to dispatch multiple instances of `process_date` in parallel."
   ]
  },
  {
   "cell_type": "code",
   "execution_count": 12,
   "id": "60f44066-3383-4a9c-aa0f-493a1fb1e357",
   "metadata": {
    "tags": []
   },
   "outputs": [
    {
     "name": "stdout",
     "output_type": "stream",
     "text": [
      "CPU info: os.cpu_count()=80  len(os.sched_getaffinity(0))=80\n"
     ]
    }
   ],
   "source": [
    "print(f'CPU info: {os.cpu_count()=}  {len(os.sched_getaffinity(0))=}')"
   ]
  },
  {
   "cell_type": "code",
   "execution_count": 13,
   "id": "9f820f99-e302-475d-b858-bb5dc806c8c1",
   "metadata": {
    "tags": []
   },
   "outputs": [],
   "source": [
    "def process_multiple_dates(dates: list[str]) -> list[xr.Dataset]:\n",
    "    \"\"\"\n",
    "    Generates HMB for multiple days in parallel using Dask.\n",
    "    Returns the resulting HMB datasets.\n",
    "    \"\"\"\n",
    "    \n",
    "    @dask.delayed\n",
    "    def delayed_process_date(date: str):\n",
    "        return process_date(date)\n",
    "\n",
    "    ## To display total elapsed time at the end the processing:\n",
    "    start_time = time.time()\n",
    "\n",
    "    ## This will be called when all dates have completed:\n",
    "    def aggregate(*datasets) -> list[xr.Dataset]:\n",
    "        elapsed_time = time.time() - start_time\n",
    "        print(f'===> All dates completed. Elapsed time: {elapsed_time:.1f} seconds ({elapsed_time/60:.1f} mins)')\n",
    "        return datasets\n",
    "\n",
    "\n",
    "    ## Prepare the processes:\n",
    "    delayed_processes = [delayed_process_date(date) for date in dates]\n",
    "    aggregation = dask.delayed(aggregate)(*delayed_processes)\n",
    "\n",
    "    ## And launch them:\n",
    "    return aggregation.compute()\n"
   ]
  },
  {
   "cell_type": "markdown",
   "id": "567e2ffd-6f67-425c-bd2f-dfbd5dd702e9",
   "metadata": {},
   "source": [
    "### Processing multiple days"
   ]
  },
  {
   "cell_type": "code",
   "execution_count": 14,
   "id": "c85cf420",
   "metadata": {
    "tags": []
   },
   "outputs": [
    {
     "name": "stdout",
     "output_type": "stream",
     "text": [
      "::: Started processing date='20220815'    log_filename='NB_SPACE/OUTPUT/MB05_20220815.log'\n",
      "::: Started processing date='20220814'    log_filename='NB_SPACE/OUTPUT/MB05_20220814.log'\n",
      "::: Started processing date='20220816'    log_filename='NB_SPACE/OUTPUT/MB05_20220816.log'\n",
      "::: Started processing date='20220812'    log_filename='NB_SPACE/OUTPUT/MB05_20220812.log'\n",
      "::: Started processing date='20220813'    log_filename='NB_SPACE/OUTPUT/MB05_20220813.log'\n",
      ":::   Ended processing date='20220812' =>  nc_filename='NB_SPACE/OUTPUT/MB05_20220812.nc'\n",
      ":::   Ended processing date='20220814' =>  nc_filename='NB_SPACE/OUTPUT/MB05_20220814.nc'\n",
      ":::   Ended processing date='20220815' =>  nc_filename='NB_SPACE/OUTPUT/MB05_20220815.nc'\n",
      ":::   Ended processing date='20220816' =>  nc_filename='NB_SPACE/OUTPUT/MB05_20220816.nc'\n",
      ":::   Ended processing date='20220813' =>  nc_filename='NB_SPACE/OUTPUT/MB05_20220813.nc'\n",
      "===> All dates completed. Elapsed time: 269.7 seconds (4.5 mins)\n",
      "Generated datasets: 5\n"
     ]
    }
   ],
   "source": [
    "## The dates for this demo:\n",
    "dates = ['20220812', '20220813','20220814', '20220815', '20220816']\n",
    "\n",
    "generated_datasets = process_multiple_dates(dates)\n",
    "\n",
    "print(f'Generated datasets: {len(generated_datasets)}')\n"
   ]
  },
  {
   "cell_type": "markdown",
   "id": "1941ac70-64d5-41dd-a9a1-df972e8f37c7",
   "metadata": {},
   "source": [
    "# NOTE: A \"quick\" test with 10 days to see performance scalability\n",
    "\n",
    "Not repeating the exercise below, but we got about 40 secs per day:\n",
    "```\n",
    "===> All dates completed. Elapsed time: 402.5 seconds (6.7 mins)\n",
    "Generated datasets: 10\n",
    "```"
   ]
  },
  {
   "cell_type": "code",
   "execution_count": null,
   "id": "ffa32ea4-6dd5-4a8f-b58a-22f3139b09c6",
   "metadata": {
    "tags": []
   },
   "outputs": [],
   "source": [
    "## 10 days:  20220812 .. 20220821\n",
    "datetimes = np.arange('2022-08-12', '2022-08-22', dtype='datetime64[D]')\n",
    "dates = [str(d).replace('-', '') for d in datetimes]\n",
    "\n",
    "generated_datasets = process_multiple_dates(dates)\n",
    "\n",
    "print(f'Generated datasets: {len(generated_datasets)}')\n"
   ]
  },
  {
   "cell_type": "code",
   "execution_count": null,
   "id": "f4f6322f-5414-48b7-99ff-75a5e4b44a5d",
   "metadata": {},
   "outputs": [],
   "source": []
  }
 ],
 "metadata": {
  "kernelspec": {
   "display_name": "Python 3 (ipykernel)",
   "language": "python",
   "name": "python3"
  },
  "language_info": {
   "codemirror_mode": {
    "name": "ipython",
    "version": 3
   },
   "file_extension": ".py",
   "mimetype": "text/x-python",
   "name": "python",
   "nbconvert_exporter": "python",
   "pygments_lexer": "ipython3",
   "version": "3.10.6"
  }
 },
 "nbformat": 4,
 "nbformat_minor": 5
}
